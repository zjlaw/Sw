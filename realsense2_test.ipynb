{
 "cells": [
  {
   "cell_type": "code",
   "execution_count": 1,
   "metadata": {},
   "outputs": [],
   "source": [
    "import pyrealsense2 as rs\n",
    "import numpy as np\n",
    "import math as m"
   ]
  },
  {
   "cell_type": "code",
   "execution_count": null,
   "metadata": {},
   "outputs": [],
   "source": [
    "# Declare RealSense pipeline, encapsulating the actual device and sensors\n",
    "pipe = rs.pipeline()\n",
    "\n",
    "# Build config object and request pose data\n",
    "cfg = rs.config()\n",
    "cfg.enable_stream(rs.stream.pose)\n",
    "\n",
    "# Start streaming with requested config\n",
    "pipe.start(cfg)\n",
    "\n",
    "try:\n",
    "    while (True):\n",
    "        # Wait for the next set of frames from the camera\n",
    "        frames = pipe.wait_for_frames()\n",
    "        # Fetch pose frame\n",
    "        pose = frames.get_pose_frame()\n",
    "        if pose:\n",
    "            # Print some of the pose data to the terminal\n",
    "            data = pose.get_pose_data()\n",
    "            # Euler angles from pose quaternion\n",
    "            # See also https://github.com/IntelRealSense/librealsense/issues/5178#issuecomment-549795232\n",
    "            # and https://github.com/IntelRealSense/librealsense/issues/5178#issuecomment-550217609\n",
    "\n",
    "            w = data.rotation.w\n",
    "            x = -data.rotation.z\n",
    "            y = data.rotation.x\n",
    "            z = -data.rotation.y\n",
    "\n",
    "            pitch =  -m.asin(2.0 * (x*z - w*y)) * 180.0 / m.pi\n",
    "            roll  =  m.atan2(2.0 * (w*x + y*z), w*w - x*x - y*y + z*z) * 180.0 / m.pi\n",
    "            yaw   =  m.atan2(2.0 * (w*z + x*y), w*w + x*x - y*y - z*z) * 180.0 / m.pi\n",
    "\n",
    "            # pitch = -np.arcsin(2.0 * (x * z - w * y)) * 180 / (np.pi)\n",
    "            # roll  =  np.arctan2(2.0 * (w*x + y*z), w*w - x*x - y*y + z*z) * 180.0 / (np.pi)\n",
    "            # yaw   =  np.arctan2(2.0 * (w*z + x*y), w*w + x*x - y*y - z*z) * 180.0 / (np.pi)\n",
    "            \n",
    "            print(\"Frame #{}\".format(pose.frame_number))\n",
    "            print(\"RPY [deg]: Roll: {0:.7f}, Pitch: {1:.7f}, Yaw: {2:.7f}\".format(roll, pitch, yaw))\n",
    "finally:\n",
    "    pipe.stop()"
   ]
  }
 ],
 "metadata": {
  "kernelspec": {
   "display_name": "Python 3",
   "language": "python",
   "name": "python3"
  },
  "language_info": {
   "codemirror_mode": {
    "name": "ipython",
    "version": 3
   },
   "file_extension": ".py",
   "mimetype": "text/x-python",
   "name": "python",
   "nbconvert_exporter": "python",
   "pygments_lexer": "ipython3",
   "version": "3.10.7"
  },
  "orig_nbformat": 4
 },
 "nbformat": 4,
 "nbformat_minor": 2
}
